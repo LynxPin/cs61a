{
 "cells": [
  {
   "cell_type": "code",
   "execution_count": 1,
   "id": "c273e5af-0f23-444a-b15c-cd148cb8eff8",
   "metadata": {
    "tags": []
   },
   "outputs": [],
   "source": [
    "def xk(c, d):\n",
    "    \"\"\"\n",
    "    >>> xk(10, 10)\n",
    "    23\n",
    "    >>> xk(10, 6)\n",
    "    23\n",
    "    >>> xk(4, 6)\n",
    "    6\n",
    "    >>> xk(0, 0)\n",
    "    25\n",
    "    \"\"\"\n",
    "    if c == 4:\n",
    "        return 6\n",
    "    elif d >= 4:\n",
    "        return 6 + 7 + c\n",
    "    else:\n",
    "        return 25"
   ]
  },
  {
   "cell_type": "code",
   "execution_count": 2,
   "id": "278a61ba-ccea-4fd3-b46b-9335d014d0a4",
   "metadata": {
    "tags": []
   },
   "outputs": [],
   "source": [
    "def how_big(x):\n",
    "    \"\"\"\n",
    "    >>> how_big(7)\n",
    "    'big'\n",
    "    >>> how_big(12)\n",
    "    huge\n",
    "    >>> how_big(1) \n",
    "    small\n",
    "    >>> how_big(-1) \n",
    "    nothin\n",
    "    \"\"\"\n",
    "    if x > 10:\n",
    "        print('huge')\n",
    "    elif x > 5:\n",
    "        return 'big'\n",
    "    elif x > 0:\n",
    "        print('small')\n",
    "    else:\n",
    "        print(\"nothin\")"
   ]
  },
  {
   "cell_type": "code",
   "execution_count": 2,
   "id": "53f7b848-9a3e-482c-bfad-9ae8e071ed6a",
   "metadata": {
    "tags": []
   },
   "outputs": [
    {
     "name": "stdout",
     "output_type": "stream",
     "text": [
      "2\n",
      "1\n",
      "0\n",
      "-1\n"
     ]
    },
    {
     "data": {
      "text/plain": [
       "'\\n2\\n1\\n0\\n-1\\n'"
      ]
     },
     "execution_count": 2,
     "metadata": {},
     "output_type": "execute_result"
    }
   ],
   "source": [
    "n=3\n",
    "while n>= 0:\n",
    "    n -= 1\n",
    "    print(n)\n",
    "\"\"\"\n",
    "2\n",
    "1\n",
    "0\n",
    "-1\n",
    "\"\"\""
   ]
  },
  {
   "cell_type": "code",
   "execution_count": null,
   "id": "7d1360b9-bbfc-434a-b35e-9b10c3d98c2c",
   "metadata": {},
   "outputs": [],
   "source": [
    "positive = 28\n",
    "while positive:\n",
    "    print(\"positive?\")\n",
    "    positive -= 3\n",
    "\"\"\"\n",
    "无限循环\n",
    "\"\"\""
   ]
  },
  {
   "cell_type": "code",
   "execution_count": 5,
   "id": "4b027643-91c1-4dea-9fc8-44716105dc18",
   "metadata": {
    "tags": []
   },
   "outputs": [
    {
     "name": "stdout",
     "output_type": "stream",
     "text": [
      "-12\n",
      "-9\n",
      "-6\n"
     ]
    },
    {
     "data": {
      "text/plain": [
       "'\\n-12\\n-9\\n-6\\n'"
      ]
     },
     "execution_count": 5,
     "metadata": {},
     "output_type": "execute_result"
    }
   ],
   "source": [
    "positive = -9\n",
    "negative = -12\n",
    "while negative:\n",
    "    if positive:\n",
    "        print(negative)\n",
    "    positive += 3\n",
    "    negative += 3\n",
    "\"\"\"\n",
    "-12\n",
    "-9\n",
    "-6\n",
    "\"\"\""
   ]
  },
  {
   "cell_type": "code",
   "execution_count": 6,
   "id": "291696be-1534-4b8c-987f-ee10e80ca7d2",
   "metadata": {
    "tags": []
   },
   "outputs": [
    {
     "data": {
      "text/plain": [
       "13"
      ]
     },
     "execution_count": 6,
     "metadata": {},
     "output_type": "execute_result"
    }
   ],
   "source": [
    "True and 13"
   ]
  },
  {
   "cell_type": "code",
   "execution_count": 7,
   "id": "92e3d2c3-a059-4e7c-821a-d8ecb9401853",
   "metadata": {
    "tags": []
   },
   "outputs": [
    {
     "data": {
      "text/plain": [
       "0"
      ]
     },
     "execution_count": 7,
     "metadata": {},
     "output_type": "execute_result"
    }
   ],
   "source": [
    "False or 0"
   ]
  },
  {
   "cell_type": "code",
   "execution_count": 8,
   "id": "b4f5dc37-ef3c-421e-811d-e2a6fbd6757f",
   "metadata": {
    "tags": []
   },
   "outputs": [
    {
     "data": {
      "text/plain": [
       "False"
      ]
     },
     "execution_count": 8,
     "metadata": {},
     "output_type": "execute_result"
    }
   ],
   "source": [
    "not 10"
   ]
  },
  {
   "cell_type": "code",
   "execution_count": 9,
   "id": "e0bc4b7f-a255-4c0e-9601-3e5e99cbfcde",
   "metadata": {
    "tags": []
   },
   "outputs": [
    {
     "data": {
      "text/plain": [
       "True"
      ]
     },
     "execution_count": 9,
     "metadata": {},
     "output_type": "execute_result"
    }
   ],
   "source": [
    "not None"
   ]
  },
  {
   "cell_type": "code",
   "execution_count": 10,
   "id": "33ebba0d-fa50-4dee-8d0d-b3c8f18bffd7",
   "metadata": {
    "tags": []
   },
   "outputs": [
    {
     "ename": "ZeroDivisionError",
     "evalue": "division by zero",
     "output_type": "error",
     "traceback": [
      "\u001b[1;31m---------------------------------------------------------------------------\u001b[0m",
      "\u001b[1;31mZeroDivisionError\u001b[0m                         Traceback (most recent call last)",
      "Cell \u001b[1;32mIn[10], line 1\u001b[0m\n\u001b[1;32m----> 1\u001b[0m \u001b[38;5;28;01mTrue\u001b[39;00m \u001b[38;5;129;01mand\u001b[39;00m \u001b[38;5;241m1\u001b[39m \u001b[38;5;241m/\u001b[39m \u001b[38;5;241m0\u001b[39m \u001b[38;5;129;01mand\u001b[39;00m \u001b[38;5;28;01mFalse\u001b[39;00m\n",
      "\u001b[1;31mZeroDivisionError\u001b[0m: division by zero"
     ]
    }
   ],
   "source": [
    "True and 1 / 0 and False"
   ]
  },
  {
   "cell_type": "code",
   "execution_count": 11,
   "id": "5e2b52d0-f9f7-48f1-a66a-46fb4273fe9f",
   "metadata": {
    "tags": []
   },
   "outputs": [
    {
     "data": {
      "text/plain": [
       "True"
      ]
     },
     "execution_count": 11,
     "metadata": {},
     "output_type": "execute_result"
    }
   ],
   "source": [
    "True or 1 / 0 or False"
   ]
  },
  {
   "cell_type": "code",
   "execution_count": 12,
   "id": "9c7f852e-4596-47a1-b9c5-add2784c1165",
   "metadata": {
    "tags": []
   },
   "outputs": [
    {
     "data": {
      "text/plain": [
       "0"
      ]
     },
     "execution_count": 12,
     "metadata": {},
     "output_type": "execute_result"
    }
   ],
   "source": [
    "True and 0"
   ]
  },
  {
   "cell_type": "code",
   "execution_count": 13,
   "id": "d20544b5-e18c-42aa-8e51-b5fbdd833c38",
   "metadata": {
    "tags": []
   },
   "outputs": [
    {
     "data": {
      "text/plain": [
       "1"
      ]
     },
     "execution_count": 13,
     "metadata": {},
     "output_type": "execute_result"
    }
   ],
   "source": [
    "False or 1"
   ]
  },
  {
   "cell_type": "code",
   "execution_count": 14,
   "id": "faff19fd-6599-4009-83fd-801a622b044f",
   "metadata": {
    "tags": []
   },
   "outputs": [
    {
     "data": {
      "text/plain": [
       "15"
      ]
     },
     "execution_count": 14,
     "metadata": {},
     "output_type": "execute_result"
    }
   ],
   "source": [
    "1 and 3 and 6 and 10 and 15"
   ]
  },
  {
   "cell_type": "code",
   "execution_count": 15,
   "id": "61fc5742-119d-42c9-8049-3fb884689f05",
   "metadata": {
    "tags": []
   },
   "outputs": [
    {
     "data": {
      "text/plain": [
       "True"
      ]
     },
     "execution_count": 15,
     "metadata": {},
     "output_type": "execute_result"
    }
   ],
   "source": [
    "-1 and 1 > 0"
   ]
  },
  {
   "cell_type": "code",
   "execution_count": 16,
   "id": "e0d35435-a6d4-44e0-8281-35bfd156eb73",
   "metadata": {
    "tags": []
   },
   "outputs": [
    {
     "data": {
      "text/plain": [
       "2"
      ]
     },
     "execution_count": 16,
     "metadata": {},
     "output_type": "execute_result"
    }
   ],
   "source": [
    "0 or False or 2 or 1 / 0"
   ]
  },
  {
   "cell_type": "code",
   "execution_count": 17,
   "id": "f43c7749-e0cf-4b06-99a6-41284f82a419",
   "metadata": {
    "tags": []
   },
   "outputs": [
    {
     "data": {
      "text/plain": [
       "True"
      ]
     },
     "execution_count": 17,
     "metadata": {},
     "output_type": "execute_result"
    }
   ],
   "source": [
    "not 0"
   ]
  },
  {
   "cell_type": "code",
   "execution_count": 18,
   "id": "51935908-58a9-424d-bd1a-f3d69827be64",
   "metadata": {
    "tags": []
   },
   "outputs": [
    {
     "data": {
      "text/plain": [
       "1"
      ]
     },
     "execution_count": 18,
     "metadata": {},
     "output_type": "execute_result"
    }
   ],
   "source": [
    "(1 + 1) and 1"
   ]
  },
  {
   "cell_type": "code",
   "execution_count": 19,
   "id": "11254f34-16e1-4fce-a0af-7abc38d5360d",
   "metadata": {
    "tags": []
   },
   "outputs": [
    {
     "ename": "ZeroDivisionError",
     "evalue": "division by zero",
     "output_type": "error",
     "traceback": [
      "\u001b[1;31m---------------------------------------------------------------------------\u001b[0m",
      "\u001b[1;31mZeroDivisionError\u001b[0m                         Traceback (most recent call last)",
      "Cell \u001b[1;32mIn[19], line 1\u001b[0m\n\u001b[1;32m----> 1\u001b[0m \u001b[38;5;241m1\u001b[39m\u001b[38;5;241m/\u001b[39m\u001b[38;5;241m0\u001b[39m \u001b[38;5;129;01mor\u001b[39;00m \u001b[38;5;28;01mTrue\u001b[39;00m\n",
      "\u001b[1;31mZeroDivisionError\u001b[0m: division by zero"
     ]
    }
   ],
   "source": [
    "1/0 or True"
   ]
  },
  {
   "cell_type": "code",
   "execution_count": 20,
   "id": "a42ffc26-7240-4c61-982b-1ec7b6d65cad",
   "metadata": {
    "tags": []
   },
   "outputs": [
    {
     "data": {
      "text/plain": [
       "False"
      ]
     },
     "execution_count": 20,
     "metadata": {},
     "output_type": "execute_result"
    }
   ],
   "source": [
    "(True or False) and False"
   ]
  },
  {
   "cell_type": "code",
   "execution_count": 3,
   "id": "ccd05859-441e-48e6-b7b0-b7aaa246b74a",
   "metadata": {
    "tags": []
   },
   "outputs": [
    {
     "name": "stdout",
     "output_type": "stream",
     "text": [
      "120\n",
      "24\n",
      "4\n",
      "1\n"
     ]
    }
   ],
   "source": [
    "def falling(n, k):\n",
    "    \"\"\"Compute the falling factorial of n to depth k.\n",
    "\n",
    "    >>> falling(6, 3)  # 6 * 5 * 4\n",
    "    120\n",
    "    >>> falling(4, 3)  # 4 * 3 * 2\n",
    "    24\n",
    "    >>> falling(4, 1)  # 4\n",
    "    4\n",
    "    >>> falling(4, 0)\n",
    "    1\n",
    "    \"\"\"\n",
    "    result = 1\n",
    "    if k >= 0:\n",
    "        while k > 0:\n",
    "            result = n * result\n",
    "            n = n-1\n",
    "            k = k-1\n",
    "        return result\n",
    "print(falling(6, 3))\n",
    "print(falling(4, 3))\n",
    "print(falling(4, 1))\n",
    "print(falling(4, 0))"
   ]
  },
  {
   "cell_type": "code",
   "execution_count": 6,
   "id": "34240fb6-d069-42b9-9f66-16607cf76ed4",
   "metadata": {
    "tags": []
   },
   "outputs": [
    {
     "name": "stdout",
     "output_type": "stream",
     "text": [
      "1\n",
      "12\n",
      "45\n",
      "6\n",
      "The argument is not a nonnegative integer!\n",
      "None\n"
     ]
    }
   ],
   "source": [
    "def sum_digits(y):\n",
    "    \"\"\"Sum all the digits of y.\n",
    "\n",
    "    >>> sum_digits(10) # 1 + 0 = 1\n",
    "    1\n",
    "    >>> sum_digits(4224) # 4 + 2 + 2 + 4 = 12\n",
    "    12\n",
    "    >>> sum_digits(1234567890)\n",
    "    45\n",
    "    >>> a = sum_digits(123) # make sure that you are using return rather than print\n",
    "    >>> a\n",
    "    6\n",
    "    \"\"\"\n",
    "    result = 0\n",
    "    if y >= 0:\n",
    "        while y >= 10:\n",
    "            result = result + y % 10\n",
    "            y = y // 10\n",
    "        return result + y\n",
    "    else:\n",
    "        print('The argument is not a nonnegative integer!')\n",
    "        return None\n",
    "    \n",
    "print(sum_digits(10))\n",
    "print(sum_digits(4224))\n",
    "print(sum_digits(1234567890))\n",
    "print(sum_digits(123))\n",
    "print(sum_digits(-2))"
   ]
  },
  {
   "cell_type": "code",
   "execution_count": 12,
   "metadata": {},
   "outputs": [
    {
     "name": "stdout",
     "output_type": "stream",
     "text": [
      "10\n",
      "foo\n"
     ]
    }
   ],
   "source": [
    "def ab(c, d):\n",
    "    if c > 5:\n",
    "        print(c)\n",
    "    elif c > 7:\n",
    "        print(d)\n",
    "    print('foo')\n",
    "ab(10, 20)"
   ]
  },
  {
   "cell_type": "code",
   "execution_count": 13,
   "metadata": {},
   "outputs": [
    {
     "name": "stdout",
     "output_type": "stream",
     "text": [
      "1\n",
      "29\n",
      "mashed potatoes\n"
     ]
    },
    {
     "data": {
      "text/plain": [
       "'mashed potatoes'"
      ]
     },
     "execution_count": 13,
     "metadata": {},
     "output_type": "execute_result"
    }
   ],
   "source": [
    "def bake(cake, make):\n",
    "    if cake == 0:\n",
    "        cake = cake + 1\n",
    "        print(cake)\n",
    "    if cake == 1:\n",
    "        print(make)\n",
    "    else:\n",
    "        return cake\n",
    "    return make\n",
    "bake(0, 29)\n",
    "\n",
    "bake(1, \"mashed potatoes\")"
   ]
  },
  {
   "cell_type": "code",
   "execution_count": 1,
   "metadata": {},
   "outputs": [
    {
     "name": "stdout",
     "output_type": "stream",
     "text": [
      "False\n",
      "True\n",
      "True\n",
      "False\n"
     ]
    }
   ],
   "source": [
    "def double_eights(n):\n",
    "    \"\"\"Return true if n has two eights in a row.\n",
    "    >>> double_eights(8)\n",
    "    False\n",
    "    >>> double_eights(88)\n",
    "    True\n",
    "    >>> double_eights(2882)\n",
    "    True\n",
    "    >>> double_eights(880088)\n",
    "    True\n",
    "    >>> double_eights(12345)\n",
    "    False\n",
    "    >>> double_eights(80808080)\n",
    "    False\n",
    "    \"\"\"\n",
    "    if n < 10:\n",
    "        return False\n",
    "\n",
    "    while n >= 10:\n",
    "        if n % 10 == 8 and n // 10 % 10 == 8:\n",
    "            return True\n",
    "        n = n // 10\n",
    "    \n",
    "    return False\n",
    "\n",
    "            \n",
    "print(double_eights(8))\n",
    "print(double_eights(88))\n",
    "print(double_eights(2882))\n",
    "print(double_eights(808))"
   ]
  },
  {
   "cell_type": "markdown",
   "metadata": {},
   "source": [
    "首先检查n是否小于10，如果是，则直接返回False。\n",
    "然后在循环中检查当前位和下一位是否都是8，如果是，则返回True。\n",
    "如果循环结束后仍未找到两个相邻的8，则返回False。"
   ]
  }
 ],
 "metadata": {
  "kernelspec": {
   "display_name": "Python 3 (ipykernel)",
   "language": "python",
   "name": "python3"
  },
  "language_info": {
   "codemirror_mode": {
    "name": "ipython",
    "version": 3
   },
   "file_extension": ".py",
   "mimetype": "text/x-python",
   "name": "python",
   "nbconvert_exporter": "python",
   "pygments_lexer": "ipython3",
   "version": "3.12.0"
  }
 },
 "nbformat": 4,
 "nbformat_minor": 5
}
