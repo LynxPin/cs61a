{
 "cells": [
  {
   "cell_type": "code",
   "execution_count": 2,
   "metadata": {},
   "outputs": [
    {
     "name": "stdout",
     "output_type": "stream",
     "text": [
      "10\n"
     ]
    }
   ],
   "source": [
    "from operator import add, sub\n",
    "\n",
    "def a_plus_abs_b(a, b):\n",
    "    \"\"\"Return a+abs(b), but without calling abs.\n",
    "\n",
    "    >>> a_plus_abs_b(2, 3)\n",
    "    5\n",
    "    >>> a_plus_abs_b(2, -3)\n",
    "    5\n",
    "\n",
    "    \"\"\"\n",
    "    if b < 0:\n",
    "        f =sub\n",
    "    else:\n",
    "        f =add\n",
    "    return f(a, b)\n",
    "\n",
    "x=a_plus_abs_b(5,-5)\n",
    "print(x)\n"
   ]
  },
  {
   "cell_type": "markdown",
   "metadata": {},
   "source": [
    "订正前：\n",
    "    if b < 0:\n",
    "        f =sub(a,b)\n",
    "    else:\n",
    "        f =add(a,b)\n",
    "    return f(a, b)\n",
    "\n",
    "    这段代码报错的原因是在最后的返回语句中，使用了函数名 f 来调用函数，\n",
    "    但是在之前的条件判断中， f 被赋值为一个整数结果，因此出现了 'int' object is not callable 的错误。\n",
    "    更具体地说，当 b 小于 0 时，f 被赋值为 sub(a, b)，即 a - b 的结果，\n",
    "    而当 b 大于等于 0 时，f 被赋值为 add(a, b)，即 a + b 的结果。\n",
    "    然后，在返回语句中f(a, b)被调用，但由于在之前的赋值操作中 f 已经指向了一个整数值，因此出现了该错误。\n",
    "    要修复这个问题，可以简单地更改返回语句，直接返回 f 即可，而不是调用 f。"
   ]
  },
  {
   "cell_type": "code",
   "execution_count": 3,
   "metadata": {},
   "outputs": [
    {
     "name": "stdout",
     "output_type": "stream",
     "text": [
      "5\n"
     ]
    }
   ],
   "source": [
    "def two_of_three(x, y, z):\n",
    "    \"\"\"Return a*a + b*b, where a and b are the two smallest members of the\n",
    "    positive numbers x, y, and z.\n",
    "\n",
    "    >>> two_of_three(1, 2, 3)\n",
    "    5\n",
    "    >>> two_of_three(5, 3, 1)\n",
    "    10\n",
    "    >>> two_of_three(10, 2, 8)\n",
    "    68\n",
    "    >>> two_of_three(5, 5, 5)\n",
    "    50\n",
    "    >>> # check that your code consists of nothing but an expression (this docstring)\n",
    "    >>> # a return statement\n",
    "    >>> import inspect, ast\n",
    "    >>> [type(x).__name__ for x in ast.parse(inspect.getsource(two_of_three)).body[0].body]\n",
    "    ['Expr', 'Return']\n",
    "    \"\"\"\n",
    "    return x*x+y*y+z*z-max(x,y,z)*max(x,y,z)\n",
    "\n",
    "a=two_of_three(1,2,3)\n",
    "print(a)"
   ]
  },
  {
   "cell_type": "code",
   "execution_count": 5,
   "metadata": {},
   "outputs": [
    {
     "name": "stdout",
     "output_type": "stream",
     "text": [
      "1\n"
     ]
    }
   ],
   "source": [
    "def largest_factor(n):\n",
    "    \"\"\"\n",
    "    Return the largest factor of n that is smaller than n.\n",
    "\n",
    "    >>> largest_factor(15) # factors are 1, 3, 5\n",
    "    5\n",
    "    >>> largest_factor(80) # factors are 1, 2, 4, 5, 8, 10, 16, 20, 40\n",
    "    40\n",
    "    >>> largest_factor(13) # factor is 1 since 13 is prime\n",
    "    1\n",
    "    \"\"\"\n",
    "\n",
    "    if n<=1:\n",
    "        print(\"Error:the argument needs to be greater than 1!\")\n",
    "        largest=None\n",
    "    else:\n",
    "        largest=1\n",
    "\n",
    "\n",
    "    for i in range(2,n):\n",
    "        if n % i==0:\n",
    "            largest=i\n",
    "\n",
    "    return largest\n",
    "\n",
    "a=largest_factor(13)\n",
    "print(a)\n"
   ]
  },
  {
   "cell_type": "code",
   "execution_count": 7,
   "metadata": {},
   "outputs": [
    {
     "data": {
      "text/plain": [
       "2"
      ]
     },
     "execution_count": 7,
     "metadata": {},
     "output_type": "execute_result"
    }
   ],
   "source": [
    "def if_function(condition, true_result, false_result):\n",
    "    \"\"\"Return true_result if condition is a true value, and\n",
    "    false_result otherwise.\n",
    "\n",
    "    >>> if_function(True, 2, 3)\n",
    "    2\n",
    "    >>> if_function(False, 2, 3)\n",
    "    3\n",
    "    >>> if_function(3==2, 3+2, 3-2)\n",
    "    1\n",
    "    >>> if_function(3>2, 3+2, 3-2)\n",
    "    5\n",
    "    \"\"\"\n",
    "    if condition:\n",
    "        return true_result\n",
    "    else:\n",
    "        return false_result\n",
    "\n",
    "if_function(True, 2, 3)"
   ]
  },
  {
   "cell_type": "code",
   "execution_count": 9,
   "metadata": {},
   "outputs": [],
   "source": [
    "def cond():\n",
    "    return False\n",
    "\n",
    "def true_func():\n",
    "    print(42)\n",
    "    return None\n",
    "\n",
    "def false_func():\n",
    "    print(47)\n",
    "    return None"
   ]
  },
  {
   "cell_type": "markdown",
   "metadata": {},
   "source": [
    "函数被调用前什么都不会发生"
   ]
  },
  {
   "cell_type": "code",
   "execution_count": 12,
   "metadata": {},
   "outputs": [
    {
     "name": "stdout",
     "output_type": "stream",
     "text": [
      "47\n",
      "None\n"
     ]
    }
   ],
   "source": [
    "def with_if_statement():\n",
    "    \"\"\"\n",
    "    >>> result = with_if_statement()\n",
    "    47\n",
    "    >>> print(result)\n",
    "    None\n",
    "    \"\"\"\n",
    "    if cond():\n",
    "        return true_func()\n",
    "    else:\n",
    "        return false_func()\n",
    "\n",
    "result = with_if_statement()\n",
    "print(result)"
   ]
  },
  {
   "cell_type": "markdown",
   "metadata": {},
   "source": [
    "1.with_if_condition()返回值为None\n",
    "2.其被调用的过程中产生副作用（执行函数体的if语句时输出47）\n",
    "3.with_if_condition()的返回值就是true_func() /false_func的返回值\n",
    "4.因此true_func() / false_func() 同样不返回一个具体的值，47事实上是调用二者其一时产生的\n"
   ]
  },
  {
   "cell_type": "code",
   "execution_count": 13,
   "metadata": {},
   "outputs": [
    {
     "name": "stdout",
     "output_type": "stream",
     "text": [
      "42\n",
      "47\n",
      "None\n"
     ]
    }
   ],
   "source": [
    "def with_if_function():\n",
    "    \"\"\"\n",
    "    >>> result = with_if_function()\n",
    "    42\n",
    "    47\n",
    "    >>> print(result)\n",
    "    None\n",
    "    \"\"\"\n",
    "    return if_function(cond(), true_func(), false_func())\n",
    "\n",
    "result = with_if_function()\n",
    "print(result)"
   ]
  },
  {
   "cell_type": "code",
   "execution_count": 6,
   "metadata": {},
   "outputs": [
    {
     "name": "stdout",
     "output_type": "stream",
     "text": [
      "10\n",
      "5\n",
      "16\n",
      "8\n",
      "4\n",
      "2\n",
      "1\n"
     ]
    },
    {
     "data": {
      "text/plain": [
       "7"
      ]
     },
     "execution_count": 6,
     "metadata": {},
     "output_type": "execute_result"
    }
   ],
   "source": [
    "def hailstone(n):\n",
    "    \"\"\"Print the hailstone sequence starting at n and return its\n",
    "    length.\n",
    "\n",
    "    >>> a = hailstone(10)\n",
    "    10\n",
    "    5\n",
    "    16\n",
    "    8\n",
    "    4\n",
    "    2\n",
    "    1\n",
    "    >>> a\n",
    "    7\n",
    "    \"\"\"\n",
    "    if n <= 0:\n",
    "        return None\n",
    "    \n",
    "    count = 1\n",
    "    while n >= 1:\n",
    "        print(n)\n",
    "        if n == 1:\n",
    "            return count\n",
    "        elif n % 2 == 0:\n",
    "            n = n // 2\n",
    "            count += 1\n",
    "        else:\n",
    "            n = n * 3 + 1\n",
    "            count += 1\n",
    "\n",
    "\n",
    "a = hailstone(10)\n",
    "a\n",
    "        \n"
   ]
  }
 ],
 "metadata": {
  "kernelspec": {
   "display_name": "Python 3",
   "language": "python",
   "name": "python3"
  },
  "language_info": {
   "codemirror_mode": {
    "name": "ipython",
    "version": 3
   },
   "file_extension": ".py",
   "mimetype": "text/x-python",
   "name": "python",
   "nbconvert_exporter": "python",
   "pygments_lexer": "ipython3",
   "version": "3.12.0"
  }
 },
 "nbformat": 4,
 "nbformat_minor": 2
}
